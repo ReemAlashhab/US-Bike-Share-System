{
 "cells": [
  {
   "cell_type": "markdown",
   "metadata": {},
   "source": [
    "# 2016 US Bike Share Activity Snapshot\n",
    "\n",
    "## Table of Contents\n",
    "- [Introduction](#intro)\n",
    "- [Posing Questions](#pose_questions)\n",
    "- [Data Collection and Wrangling](#wrangling)\n",
    "  - [Condensing the Trip Data](#condensing)\n",
    "- [Exploratory Data Analysis](#eda)\n",
    "  - [Statistics](#statistics)\n",
    "  - [Visualizations](#visualizations)\n",
    "- [Performing Your Own Analysis](#eda_continued)\n",
    "- [Conclusions](#conclusions)\n",
    "\n",
    "<a id='intro'></a>\n",
    "## Introduction\n",
    "\n",
    "> **Tip**: Quoted sections like this will provide helpful instructions on how to navigate and use a Jupyter notebook.\n",
    "\n",
    "Over the past decade, bicycle-sharing systems have been growing in number and popularity in cities across the world. Bicycle-sharing systems allow users to rent bicycles for short trips, typically 30 minutes or less. Thanks to the rise in information technologies, it is easy for a user of the system to access a dock within the system to unlock or return bicycles. These technologies also provide a wealth of data that can be used to explore how these bike-sharing systems are used.\n",
    "\n",
    "In this project, you will perform an exploratory analysis on data provided by [Motivate](https://www.motivateco.com/), a bike-share system provider for many major cities in the United States. You will compare the system usage between three large cities: New York City, Chicago, and Washington, DC. You will also see if there are any differences within each system for those users that are registered, regular users and those users that are short-term, casual users."
   ]
  },
  {
   "cell_type": "markdown",
   "metadata": {},
   "source": [
    "<a id='pose_questions'></a>\n",
    "## Posing Questions\n",
    "\n",
    "Before looking at the bike sharing data, you should start by asking questions you might want to understand about the bike share data. Consider, for example, if you were working for Motivate. What kinds of information would you want to know about in order to make smarter business decisions? If you were a user of the bike-share service, what factors might influence how you would want to use the service?\n",
    "\n",
    "**Question 1**: Write at least two questions related to bike sharing that you think could be answered by data.\n",
    "\n",
    "**Answer**: \n",
    "            1. What are the peak periods in which users request bikes in each of the the three cities ? \n",
    "            2. In which city the bike share service is mostly used in New York City or Chicago or Washington, DC ?\n",
    "            3. What is the average time the customer uses the bike share service in the each of the three cities ?\n",
    "            4. What on average a person pays for the bike share service in each of the three cities ?\n",
    "            \n",
    "\n",
    "> **Tip**: If you double click on this cell, you will see the text change so that all of the formatting is removed. This allows you to edit this block of text. This block of text is written using [Markdown](http://daringfireball.net/projects/markdown/syntax), which is a way to format text using headers, links, italics, and many other options using a plain-text syntax. You will also use Markdown later in the Nanodegree program. Use **Shift** + **Enter** or **Shift** + **Return** to run the cell and show its rendered form."
   ]
  },
  {
   "cell_type": "markdown",
   "metadata": {},
   "source": [
    "<a id='wrangling'></a>\n",
    "## Data Collection and Wrangling\n",
    "\n",
    "Now it's time to collect and explore our data. In this project, we will focus on the record of individual trips taken in 2016 from our selected cities: New York City, Chicago, and Washington, DC. Each of these cities has a page where we can freely download the trip data.:\n",
    "\n",
    "- New York City (Citi Bike): [Link](https://www.citibikenyc.com/system-data)\n",
    "- Chicago (Divvy): [Link](https://www.divvybikes.com/system-data)\n",
    "- Washington, DC (Capital Bikeshare): [Link](https://www.capitalbikeshare.com/system-data)\n",
    "\n",
    "If you visit these pages, you will notice that each city has a different way of delivering its data. Chicago updates with new data twice a year, Washington DC is quarterly, and New York City is monthly. **However, you do not need to download the data yourself.** The data has already been collected for you in the `/data/` folder of the project files. While the original data for 2016 is spread among multiple files for each city, the files in the `/data/` folder collect all of the trip data for the year into one file per city. Some data wrangling of inconsistencies in timestamp format within each city has already been performed for you. In addition, a random 2% sample of the original data is taken to make the exploration more manageable. \n",
    "\n",
    "**Question 2**: However, there is still a lot of data for us to investigate, so it's a good idea to start off by looking at one entry from each of the cities we're going to analyze. Run the first code cell below to load some packages and functions that you'll be using in your analysis. Then, complete the second code cell to print out the first trip recorded from each of the cities (the second line of each data file).\n",
    "\n",
    "> **Tip**: You can run a code cell like you formatted Markdown cells above by clicking on the cell and using the keyboard shortcut **Shift** + **Enter** or **Shift** + **Return**. Alternatively, a code cell can be executed using the **Play** button in the toolbar after selecting it. While the cell is running, you will see an asterisk in the message to the left of the cell, i.e. `In [*]:`. The asterisk will change into a number to show that execution has completed, e.g. `In [1]`. If there is output, it will show up as `Out [1]:`, with an appropriate number to match the \"In\" number."
   ]
  },
  {
   "cell_type": "code",
   "execution_count": 2,
   "metadata": {},
   "outputs": [],
   "source": [
    "## import all necessary packages and functions.\n",
    "import csv # read and write csv files\n",
    "from datetime import datetime # operations to parse dates\n",
    "from pprint import pprint  # use to print data structures like dictionaries in\n",
    "                          # a nicer way than the base print function."
   ]
  },
  {
   "cell_type": "code",
   "execution_count": 42,
   "metadata": {},
   "outputs": [
    {
     "name": "stdout",
     "output_type": "stream",
     "text": [
      "\n",
      "City: NYC\n",
      "OrderedDict([('tripduration', '839'),\n",
      "             ('starttime', '1/1/2016 00:09:55'),\n",
      "             ('stoptime', '1/1/2016 00:23:54'),\n",
      "             ('start station id', '532'),\n",
      "             ('start station name', 'S 5 Pl & S 4 St'),\n",
      "             ('start station latitude', '40.710451'),\n",
      "             ('start station longitude', '-73.960876'),\n",
      "             ('end station id', '401'),\n",
      "             ('end station name', 'Allen St & Rivington St'),\n",
      "             ('end station latitude', '40.72019576'),\n",
      "             ('end station longitude', '-73.98997825'),\n",
      "             ('bikeid', '17109'),\n",
      "             ('usertype', 'Customer'),\n",
      "             ('birth year', ''),\n",
      "             ('gender', '0')])\n",
      "\n",
      "City: Chicago\n",
      "OrderedDict([('trip_id', '9080545'),\n",
      "             ('starttime', '3/31/2016 23:30'),\n",
      "             ('stoptime', '3/31/2016 23:46'),\n",
      "             ('bikeid', '2295'),\n",
      "             ('tripduration', '926'),\n",
      "             ('from_station_id', '156'),\n",
      "             ('from_station_name', 'Clark St & Wellington Ave'),\n",
      "             ('to_station_id', '166'),\n",
      "             ('to_station_name', 'Ashland Ave & Wrightwood Ave'),\n",
      "             ('usertype', 'Subscriber'),\n",
      "             ('gender', 'Male'),\n",
      "             ('birthyear', '1990')])\n",
      "\n",
      "City: Washington\n",
      "OrderedDict([('Duration (ms)', '427387'),\n",
      "             ('Start date', '3/31/2016 22:57'),\n",
      "             ('End date', '3/31/2016 23:04'),\n",
      "             ('Start station number', '31602'),\n",
      "             ('Start station', 'Park Rd & Holmead Pl NW'),\n",
      "             ('End station number', '31207'),\n",
      "             ('End station', 'Georgia Ave and Fairmont St NW'),\n",
      "             ('Bike number', 'W20842'),\n",
      "             ('Member Type', 'Registered')])\n"
     ]
    }
   ],
   "source": [
    "def print_first_point(filename):\n",
    "    \"\"\"\n",
    "    This function prints and returns the first data point (second row) from\n",
    "    a csv file that includes a header row.\n",
    "    \"\"\"\n",
    "    # print city name for reference\n",
    "    city = filename.split('-')[0].split('/')[-1]\n",
    "    print('\\nCity: {}'.format(city))\n",
    "    \n",
    "    with open(filename, 'r') as f_in:\n",
    "        ## TODO: Use the csv library to set up a DictReader object. ##\n",
    "        ## see https://docs.python.org/3/library/csv.html           ##\n",
    "        \n",
    "        ## This object will help in reading the content inside the csv file ## \n",
    "        trip_reader = csv.DictReader(f_in)\n",
    "        \n",
    "        \n",
    "        ## TODO: Use a function on the DictReader object to read the     ##\n",
    "        ## first trip from the data file and store it in a variable.     ##\n",
    "        ## see https://docs.python.org/3/library/csv.html#reader-objects ##\n",
    "        \n",
    "        \n",
    "        ## The next function is used here to read data after the header line and store it in the first_trip varibale ##\n",
    "        first_trip = next(trip_reader) \n",
    "        \n",
    "        ## TODO: Use the pprint library to print the first trip. ##\n",
    "        ## see https://docs.python.org/3/library/pprint.html     ##\n",
    "        \n",
    "        pprint(first_trip) \n",
    "       \n",
    "        \n",
    "    # output city name and first trip for later testing\n",
    "    return (city, first_trip)\n",
    "\n",
    "# list of files for each city\n",
    "data_files = ['./data/NYC-CitiBike-2016.csv',\n",
    "              './data/Chicago-Divvy-2016.csv',\n",
    "              './data/Washington-CapitalBikeshare-2016.csv',]\n",
    "\n",
    "# print the first trip from each file, store in dictionary\n",
    "example_trips = {}\n",
    "for data_file in data_files:\n",
    "    city, first_trip = print_first_point(data_file)\n",
    "    example_trips[city] = first_trip\n",
    "    \n"
   ]
  },
  {
   "cell_type": "markdown",
   "metadata": {},
   "source": [
    "If everything has been filled out correctly, you should see below the printout of each city name (which has been parsed from the data file name) that the first trip has been parsed in the form of a dictionary. When you set up a `DictReader` object, the first row of the data file is normally interpreted as column names. Every other row in the data file will use those column names as keys, as a dictionary is generated for each row.\n",
    "\n",
    "This will be useful since we can refer to quantities by an easily-understandable label instead of just a numeric index. For example, if we have a trip stored in the variable `row`, then we would rather get the trip duration from `row['duration']` instead of `row[0]`.\n",
    "\n",
    "<a id='condensing'></a>\n",
    "### Condensing the Trip Data\n",
    "\n",
    "It should also be observable from the above printout that each city provides different information. Even where the information is the same, the column names and formats are sometimes different. To make things as simple as possible when we get to the actual exploration, we should trim and clean the data. Cleaning the data makes sure that the data formats across the cities are consistent, while trimming focuses only on the parts of the data we are most interested in to make the exploration easier to work with.\n",
    "\n",
    "You will generate new data files with five values of interest for each trip: trip duration, starting month, starting hour, day of the week, and user type. Each of these may require additional wrangling depending on the city:\n",
    "\n",
    "- **Duration**: This has been given to us in seconds (New York, Chicago) or milliseconds (Washington). A more natural unit of analysis will be if all the trip durations are given in terms of minutes.\n",
    "- **Month**, **Hour**, **Day of Week**: Ridership volume is likely to change based on the season, time of day, and whether it is a weekday or weekend. Use the start time of the trip to obtain these values. The New York City data includes the seconds in their timestamps, while Washington and Chicago do not. The [`datetime`](https://docs.python.org/3/library/datetime.html) package will be very useful here to make the needed conversions.\n",
    "- **User Type**: It is possible that users who are subscribed to a bike-share system will have different patterns of use compared to users who only have temporary passes. Washington divides its users into two types: 'Registered' for users with annual, monthly, and other longer-term subscriptions, and 'Casual', for users with 24-hour, 3-day, and other short-term passes. The New York and Chicago data uses 'Subscriber' and 'Customer' for these groups, respectively. For consistency, you will convert the Washington labels to match the other two.\n",
    "\n",
    "\n",
    "**Question 3a**: Complete the helper functions in the code cells below to address each of the cleaning tasks described above."
   ]
  },
  {
   "cell_type": "code",
   "execution_count": 15,
   "metadata": {},
   "outputs": [],
   "source": [
    "def duration_in_mins(datum, city):\n",
    "    \"\"\"\n",
    "    Takes as input a dictionary containing info about a single trip (datum) and\n",
    "    its origin city (city) and returns the trip duration in units of minutes.\n",
    "    \n",
    "    Remember that Washington is in terms of milliseconds while Chicago and NYC\n",
    "    are in terms of seconds. \n",
    "    \n",
    "    HINT: The csv module reads in all of the data as strings, including numeric\n",
    "    values. You will need a function to convert the strings into an appropriate\n",
    "    numeric type when making your transformations.\n",
    "    see https://docs.python.org/3/library/functions.html\n",
    "    \"\"\"\n",
    "        \n",
    "    ## The if condition is used here to make appropriate duration data conversion for each city ##\n",
    "    ## Trip duration in washington is in  milliseconds , so to change it to minutes ; it's divided by 60000 ##\n",
    "    if (city =='Washington'):\n",
    "        duration=round(float(datum[\"Duration (ms)\"])/60000,4)\n",
    "    # Trip duration in NYC and Chicago is in seconds , so to change it to minutes ; it's divided by 60.\n",
    "    else:\n",
    "        duration=round(float(datum[\"tripduration\"])/60,4)\n",
    "                                  \n",
    "    # After conversion for duration time format , it's returned for later use.\n",
    "    return duration\n",
    "\n",
    "    \n",
    "# Some tests to check that your code works. There should be no output if all of\n",
    "# the assertions pass. The `example_trips` dictionary was obtained from when\n",
    "# you printed the first trip from each of the original data files.\n",
    "tests = {'NYC': 13.9833,\n",
    "         'Chicago': 15.4333,\n",
    "         'Washington': 7.1231}\n",
    "\n",
    "for city in tests:\n",
    "    assert abs(duration_in_mins(example_trips[city],city) - tests[city] )< .001    \n",
    "     "
   ]
  },
  {
   "cell_type": "code",
   "execution_count": 16,
   "metadata": {},
   "outputs": [],
   "source": [
    "def time_of_trip(datum, city):\n",
    "    \"\"\"\n",
    "    Takes as input a dictionary containing info about a single trip (datum) and\n",
    "    its origin city (city) and returns the month, hour, and day of the week in\n",
    "    which the trip was made.\n",
    "    \n",
    "    Remember that NYC includes seconds, while Washington and Chicago do not.\n",
    "    \n",
    "    HINT: You should use the datetime module to parse the original date\n",
    "    strings into a format that is useful for extracting the desired information.\n",
    "    see https://docs.python.org/3/library/datetime.html#strftime-and-strptime-behavior\n",
    "    \"\"\"\n",
    "    \n",
    "    # First, appropriate date time format variables are set  \n",
    "    # This foramt is used for NYC for the first conversion from string to date and time format \n",
    "    Newyork_format=\"%m/%d/%Y %H:%M:%S\"\n",
    "    # This format is used for Chicago and Washington for the first conversion from string to date and time format\n",
    "    others_format=\"%m/%d/%Y %H:%M\"\n",
    "    # This format is the final date and time format for all the three cities \n",
    "    datetime_format=\"%m %H %A\"   \n",
    "                                         \n",
    "    if (city =='NYC'):\n",
    "        dt = datetime.strptime(datum['starttime'],Newyork_format).strftime(datetime_format).replace(\" 0\", \" \")\n",
    "       \n",
    "            \n",
    "    elif(city=='Chicago'):\n",
    "        dt = datetime.strptime(datum['starttime'],others_format).strftime(datetime_format)\n",
    "            \n",
    "         \n",
    "    elif(city=='Washington'):\n",
    "         dt = datetime.strptime(datum['Start date'], others_format).strftime(datetime_format)\n",
    "    \n",
    "    # After datetime conversion , each part of the datetime must be split \n",
    "    dt = dt.split()\n",
    "    # Each part is then put in a tuple to be returned as an individual value             \n",
    "    dt= tuple(dt)\n",
    "    month , hour , day_of_week = int(dt[0]),int(dt[1]),dt[2]\n",
    "            \n",
    "    # month , hour , day_of_week are returned for later use \n",
    "    return (month,hour,day_of_week)\n",
    "\n",
    "# Some tests to check that your code works. There should be no output if all of\n",
    "# the assertions pass. The `example_trips` dictionary was obtained from when\n",
    "# you printed the first trip from each of the original data files.\n",
    "tests = {'NYC': (1, 0, 'Friday'),\n",
    "         'Chicago': (3, 23, 'Thursday'),\n",
    "         'Washington': (3, 22, 'Thursday')}\n",
    "\n",
    "for city in tests:\n",
    "    assert time_of_trip(example_trips[city], city) == tests[city]\n"
   ]
  },
  {
   "cell_type": "code",
   "execution_count": 17,
   "metadata": {},
   "outputs": [],
   "source": [
    "def type_of_user(datum, city):\n",
    "    \"\"\"\n",
    "    Takes as input a dictionary containing info about a single trip (datum) and\n",
    "    its origin city (city) and returns the type of system user that made the\n",
    "    trip.\n",
    "    \n",
    "    Remember that Washington has different category names compared to Chicago\n",
    "    and NYC. \n",
    "    \"\"\"\n",
    "    \n",
    "    #  For NYC and Chicago , the user type data is fitched directly as both cities have proper format for type of user\n",
    "    \n",
    "    if (city =='NYC'or city=='Chicago'):\n",
    "            \n",
    "        user_type= datum['usertype']   \n",
    "    \n",
    "    # For Washington , we need to change registered to subscriber and casual to customer to have proper data format for type of user\n",
    "    \n",
    "    else:\n",
    "    \n",
    "        if (datum['Member Type']=='Registered'):\n",
    "            \n",
    "            user_type = 'Subscriber'\n",
    "            \n",
    "        elif (datum['Member Type'] == 'Casual'):\n",
    "                              \n",
    "            user_type='Customer'\n",
    "        \n",
    "        \n",
    "    \n",
    "    return user_type\n",
    "\n",
    "\n",
    "# Some tests to check that your code works. There should be no output if all of\n",
    "# the assertions pass. The `example_trips` dictionary was obtained from when\n",
    "# you printed the first trip from each of the original data files.\n",
    "tests = {'NYC': 'Customer',\n",
    "         'Chicago': 'Subscriber',\n",
    "         'Washington': 'Subscriber'}\n",
    "\n",
    "for city in tests:\n",
    "    assert type_of_user(example_trips[city], city) == tests[city]"
   ]
  },
  {
   "cell_type": "markdown",
   "metadata": {},
   "source": [
    "**Question 3b**: Now, use the helper functions you wrote above to create a condensed data file for each city consisting only of the data fields indicated above. In the `/examples/` folder, you will see an example datafile from the [Bay Area Bike Share](http://www.bayareabikeshare.com/open-data) before and after conversion. Make sure that your output is formatted to be consistent with the example file."
   ]
  },
  {
   "cell_type": "code",
   "execution_count": 18,
   "metadata": {},
   "outputs": [],
   "source": [
    "def condense_data(in_file, out_file, city):\n",
    "    \"\"\"\n",
    "    This function takes full data from the specified input file\n",
    "    and writes the condensed data to a specified output file. The city\n",
    "    argument determines how the input file will be parsed.\n",
    "    \n",
    "    HINT: See the cell below to see how the arguments are structured!\n",
    "    \"\"\"\n",
    "    \n",
    "    with open(out_file, 'w') as f_out, open(in_file, 'r') as f_in:\n",
    "        # set up csv DictWriter object - writer requires column names for the\n",
    "        # first row as the \"fieldnames\" argument\n",
    "        out_colnames = ['duration', 'month', 'hour', 'day_of_week', 'user_type']        \n",
    "        trip_writer = csv.DictWriter(f_out, fieldnames = out_colnames)\n",
    "        trip_writer.writeheader()\n",
    "        \n",
    "        ## TODO: set up csv DictReader object ##\n",
    "        trip_reader = csv.DictReader(f_in)\n",
    "        \n",
    "       \n",
    "        # collect data from and process each row\n",
    "        for row in trip_reader:\n",
    "            # set up a dictionary to hold the values for the cleaned and trimmed\n",
    "            # data point\n",
    "            new_point = {}\n",
    "\n",
    "            ## TODO: use the helper functions to get the cleaned data from  ##\n",
    "            ## the original data dictionaries.                              ##\n",
    "            ## Note that the keys for the new_point dictionary should match ##\n",
    "            ## the column names set in the DictWriter object above.         ##\n",
    "            \n",
    "            # setting the duration value \n",
    "            new_point['duration']=duration_in_mins(row, city)\n",
    "            \n",
    "            # setting the month , hour , day_of week values \n",
    "            new_point['month'],new_point['hour'],new_point['day_of_week']= time_of_trip(row, city)\n",
    "            \n",
    "            # setting the user type value \n",
    "            new_point['user_type']=type_of_user(row, city)\n",
    "                       \n",
    "                       \n",
    "            ## TODO: write the processed information to the output file.     ##\n",
    "            ## see https://docs.python.org/3/library/csv.html#writer-objects ##\n",
    "            \n",
    "            trip_writer.writerow(new_point)\n",
    "                 \n",
    "            \n",
    "            "
   ]
  },
  {
   "cell_type": "code",
   "execution_count": 19,
   "metadata": {},
   "outputs": [
    {
     "name": "stdout",
     "output_type": "stream",
     "text": [
      "\n",
      "City: Washington\n",
      "OrderedDict([('duration', '7.1231'),\n",
      "             ('month', '3'),\n",
      "             ('hour', '22'),\n",
      "             ('day_of_week', 'Thursday'),\n",
      "             ('user_type', 'Subscriber')])\n",
      "\n",
      "City: Chicago\n",
      "OrderedDict([('duration', '15.4333'),\n",
      "             ('month', '3'),\n",
      "             ('hour', '23'),\n",
      "             ('day_of_week', 'Thursday'),\n",
      "             ('user_type', 'Subscriber')])\n",
      "\n",
      "City: NYC\n",
      "OrderedDict([('duration', '13.9833'),\n",
      "             ('month', '1'),\n",
      "             ('hour', '0'),\n",
      "             ('day_of_week', 'Friday'),\n",
      "             ('user_type', 'Customer')])\n"
     ]
    }
   ],
   "source": [
    "# Run this cell to check your work\n",
    "city_info = {'Washington': {'in_file': './data/Washington-CapitalBikeshare-2016.csv',\n",
    "                            'out_file': './data/Washington-2016-Summary.csv'},\n",
    "             'Chicago': {'in_file': './data/Chicago-Divvy-2016.csv',\n",
    "                         'out_file': './data/Chicago-2016-Summary.csv'},\n",
    "             'NYC': {'in_file': './data/NYC-CitiBike-2016.csv',\n",
    "                     'out_file': './data/NYC-2016-Summary.csv'}}\n",
    "\n",
    "for city, filenames in city_info.items():\n",
    "    condense_data(filenames['in_file'], filenames['out_file'], city)\n",
    "    print_first_point(filenames['out_file'])"
   ]
  },
  {
   "cell_type": "markdown",
   "metadata": {},
   "source": [
    "> **Tip**: If you save a jupyter Notebook, the output from running code blocks will also be saved. However, the state of your workspace will be reset once a new session is started. Make sure that you run all of the necessary code blocks from your previous session to reestablish variables and functions before picking up where you last left off.\n",
    "\n",
    "<a id='eda'></a>\n",
    "## Exploratory Data Analysis\n",
    "\n",
    "Now that you have the data collected and wrangled, you're ready to start exploring the data. In this section you will write some code to compute descriptive statistics from the data. You will also be introduced to the `matplotlib` library to create some basic histograms of the data.\n",
    "\n",
    "<a id='statistics'></a>\n",
    "### Statistics\n",
    "\n",
    "First, let's compute some basic counts. The first cell below contains a function that uses the csv module to iterate through a provided data file, returning the number of trips made by subscribers and customers. The second cell runs this function on the example Bay Area data in the `/examples/` folder. Modify the cells to answer the question below.\n",
    "\n",
    "**Question 4a**: Which city has the highest number of trips? Which city has the highest proportion of trips made by subscribers? Which city has the highest proportion of trips made by short-term customers?\n",
    "\n",
    "**Answer**: NewYork has the highest number of trips and the highest proportion of trips made by subscribers.Chicago has the highest proportion of trips made by short-term customers."
   ]
  },
  {
   "cell_type": "code",
   "execution_count": 20,
   "metadata": {},
   "outputs": [],
   "source": [
    "def number_of_trips(filename):\n",
    "    \"\"\"\n",
    "    This function reads in a file with trip data and reports the number of\n",
    "    trips made by subscribers, customers, and total overall.\n",
    "    \"\"\"\n",
    "    with open(filename, 'r') as f_in:\n",
    "        # set up csv reader object\n",
    "        reader = csv.DictReader(f_in)\n",
    "        \n",
    "        # initialize count variables\n",
    "        n_subscribers = 0\n",
    "        n_customers = 0\n",
    "        \n",
    "        # tally up ride types\n",
    "        for row in reader:\n",
    "            if row['user_type'] == 'Subscriber':\n",
    "                n_subscribers += 1\n",
    "            else:\n",
    "                n_customers += 1\n",
    "        \n",
    "        # compute total number of rides\n",
    "        n_total = n_subscribers + n_customers\n",
    "        \n",
    "        # return tallies as a tuple\n",
    "        return n_subscribers, n_customers, n_total"
   ]
  },
  {
   "cell_type": "code",
   "execution_count": 21,
   "metadata": {},
   "outputs": [
    {
     "name": "stdout",
     "output_type": "stream",
     "text": [
      "In Washington :total number of trips is 66326 trip.\n",
      "In Washington :proporation number of trips made by subscribers is 78%.\n",
      "In Washington :proporation number of trips made by customers is 22%.\n"
     ]
    }
   ],
   "source": [
    "## Modify this and the previous cell to answer Question 4a. Remember to run ##\n",
    "## the function on the cleaned data files you created from Question 3.      ##\n",
    "\n",
    "data_file = './data/Washington-2016-Summary.csv'\n",
    "subscribers, customers, total=number_of_trips(data_file)\n",
    "\n",
    "print(\"In Washington :total number of trips is {0} trip.\".format(total))\n",
    "print(\"In Washington :proporation number of trips made by subscribers is {0}%.\".format(round((subscribers/total)*100)))\n",
    "print(\"In Washington :proporation number of trips made by customers is {0}%.\".format(round((customers/total)*100)))"
   ]
  },
  {
   "cell_type": "code",
   "execution_count": 22,
   "metadata": {},
   "outputs": [
    {
     "name": "stdout",
     "output_type": "stream",
     "text": [
      "In Chicago :total number of trips is 72131 trip.\n",
      "In Chicago :proporation number of trips made by subscribers is 76%.\n",
      "In Chicago :proporation number of trips made by customers is 24%.\n"
     ]
    }
   ],
   "source": [
    "data_file = './data/Chicago-2016-Summary.csv'\n",
    "subscribers, customers, total=number_of_trips(data_file)\n",
    "\n",
    "print(\"In Chicago :total number of trips is {0} trip.\".format(total))\n",
    "print(\"In Chicago :proporation number of trips made by subscribers is {0}%.\".format(round((subscribers/total)*100)))\n",
    "print(\"In Chicago :proporation number of trips made by customers is {0}%.\".format(round((customers/total)*100)))"
   ]
  },
  {
   "cell_type": "code",
   "execution_count": 23,
   "metadata": {},
   "outputs": [
    {
     "name": "stdout",
     "output_type": "stream",
     "text": [
      "In NewYork :total number of trips is 276798 trip.\n",
      "In NewYork :proporation number of trips made by subscribers is 89%.\n",
      "In NewYork :proporation number of trips made by customers is 11%.\n"
     ]
    }
   ],
   "source": [
    "data_file = './data/NYC-2016-Summary.csv'\n",
    "subscribers, customers, total=number_of_trips(data_file)\n",
    "\n",
    "print(\"In NewYork :total number of trips is {0} trip.\".format(total))\n",
    "print(\"In NewYork :proporation number of trips made by subscribers is {0}%.\".format(round((subscribers/total)*100)))\n",
    "print(\"In NewYork :proporation number of trips made by customers is {0}%.\".format(round((customers/total)*100)))\n"
   ]
  },
  {
   "cell_type": "markdown",
   "metadata": {},
   "source": [
    "> **Tip**: In order to add additional cells to a notebook, you can use the \"Insert Cell Above\" and \"Insert Cell Below\" options from the menu bar above. There is also an icon in the toolbar for adding new cells, with additional icons for moving the cells up and down the document. By default, new cells are of the code type; you can also specify the cell type (e.g. Code or Markdown) of selected cells from the Cell menu or the dropdown in the toolbar.\n",
    "\n",
    "Now, you will write your own code to continue investigating properties of the data.\n",
    "\n",
    "**Question 4b**: Bike-share systems are designed for riders to take short trips. Most of the time, users are allowed to take trips of 30 minutes or less with no additional charges, with overage charges made for trips of longer than that duration. What is the average trip length for each city? What proportion of rides made in each city are longer than 30 minutes?\n",
    "\n",
    "**Answer**: The average trip length for Newyork , Washington , Chicago is 15 minutes , 18 minutes and 16 minutes respectively.\n",
    "            The proporation number of long trips made in Newyork , Washington , Chicago is 6.6% , 10.2% and 7.7% respectively."
   ]
  },
  {
   "cell_type": "code",
   "execution_count": 24,
   "metadata": {
    "scrolled": true
   },
   "outputs": [],
   "source": [
    "## Use this and additional cells to answer Question 4b.                 ##\n",
    "##                                                                      ##\n",
    "## HINT: The csv module reads in all of the data as strings, including  ##\n",
    "## numeric values. You will need a function to convert the strings      ##\n",
    "## into an appropriate numeric type before you aggregate data.          ##\n",
    "## TIP: For the Bay Area example, the average trip length is 14 minutes ##\n",
    "## and 3.5% of trips are longer than 30 minutes.                        ##\n",
    "\n",
    "def avg_trip_lenght(filename):\n",
    "    \n",
    "    \"\"\"\n",
    "    This function reads in a file with trip data and reports the average trip lenght \n",
    "    in each city.\n",
    "    \n",
    "    \"\"\"\n",
    "    with open(filename, 'r') as f_in:\n",
    "        # set up csv reader object\n",
    "        reader = csv.DictReader(f_in)\n",
    "        \n",
    "        # set trips lenght varibale\n",
    "        trips_lenght = 0\n",
    "                    \n",
    "            \n",
    "        # read each row in the trip file for the specified city \n",
    "        for row in reader:\n",
    "            \n",
    "        # add each trip duration to trips_lenght variable     \n",
    "            trips_lenght +=int(float(row['duration']))\n",
    "            \n",
    "                                   \n",
    "        # calculate avergae trips lenght by dividing total trips lenght by total number of trips\n",
    "        avg_trips_lenght=int(trips_lenght/reader.line_num)        \n",
    "                      \n",
    "        return  avg_trips_lenght\n"
   ]
  },
  {
   "cell_type": "code",
   "execution_count": 25,
   "metadata": {},
   "outputs": [
    {
     "name": "stdout",
     "output_type": "stream",
     "text": [
      "The average trip lenght in NewYork is 15 minutes.\n"
     ]
    }
   ],
   "source": [
    "data_file = './data/NYC-2016-Summary.csv'\n",
    "print(\"The average trip lenght in NewYork is {0} minutes.\".format(avg_trip_lenght(data_file)))"
   ]
  },
  {
   "cell_type": "code",
   "execution_count": 26,
   "metadata": {},
   "outputs": [
    {
     "name": "stdout",
     "output_type": "stream",
     "text": [
      "The average trip lenght in Washington is 18 minutes.\n"
     ]
    }
   ],
   "source": [
    "data_file = './data/Washington-2016-Summary.csv'\n",
    "print(\"The average trip lenght in Washington is {0} minutes.\".format(avg_trip_lenght(data_file)))"
   ]
  },
  {
   "cell_type": "code",
   "execution_count": 27,
   "metadata": {},
   "outputs": [
    {
     "name": "stdout",
     "output_type": "stream",
     "text": [
      "The average trip lenght in Chicago is 16 minutes.\n"
     ]
    }
   ],
   "source": [
    "data_file = './data/Chicago-2016-Summary.csv'\n",
    "print(\"The average trip lenght in Chicago is {0} minutes.\".format(avg_trip_lenght(data_file)))"
   ]
  },
  {
   "cell_type": "code",
   "execution_count": 28,
   "metadata": {},
   "outputs": [],
   "source": [
    "def prop_long_trips(filename):\n",
    "    \n",
    "    \"\"\"\n",
    "    This function reads in a file with trip data and reports the\n",
    "    proportion of rides made in each city which are longer than 30 minutes.\n",
    "    \n",
    "    \"\"\"\n",
    "    with open(filename, 'r') as f_in:\n",
    "        # set up csv reader object\n",
    "        reader = csv.DictReader(f_in)\n",
    "                                   \n",
    "        #set total long trips counter \n",
    "        total_long_trips = 0\n",
    "       \n",
    "        # read each row in the trip file for the specified city \n",
    "        for row in reader:\n",
    "                              \n",
    "        # if duration of the trip is larger than 30 minutes  \n",
    "            if int(float(row['duration']))>30:\n",
    "                \n",
    "        # increase total_long_trips counter by 1        \n",
    "                total_long_trips +=1  \n",
    "        \n",
    "        # to find the proporation of long rides made in each city that are longer than 30 minutes\n",
    "        # divide total total long trips by total num of trips and multiply by 100\n",
    "        proporation_of_rides =round(((total_long_trips / reader.line_num)*100),1)\n",
    "        \n",
    "        \n",
    "        return proporation_of_rides \n"
   ]
  },
  {
   "cell_type": "code",
   "execution_count": 29,
   "metadata": {},
   "outputs": [
    {
     "name": "stdout",
     "output_type": "stream",
     "text": [
      "In NewYork :proporation number of long trips made is 6.6%.\n"
     ]
    }
   ],
   "source": [
    "data_file = './data/NYC-2016-Summary.csv'\n",
    "print(\"In NewYork :proporation number of long trips made is {0}%.\".format(prop_long_trips(data_file)))"
   ]
  },
  {
   "cell_type": "code",
   "execution_count": 30,
   "metadata": {},
   "outputs": [
    {
     "name": "stdout",
     "output_type": "stream",
     "text": [
      "In Washington :proporation number of long trips made is 10.2%.\n"
     ]
    }
   ],
   "source": [
    "data_file = './data/Washington-2016-Summary.csv'\n",
    "print(\"In Washington :proporation number of long trips made is {0}%.\".format(prop_long_trips(data_file)))"
   ]
  },
  {
   "cell_type": "code",
   "execution_count": 31,
   "metadata": {},
   "outputs": [
    {
     "name": "stdout",
     "output_type": "stream",
     "text": [
      "In Chicago :proporation number of long trips made is 7.7%.\n"
     ]
    }
   ],
   "source": [
    "data_file = './data/Chicago-2016-Summary.csv'\n",
    "print(\"In Chicago :proporation number of long trips made is {0}%.\".format(prop_long_trips(data_file)))"
   ]
  },
  {
   "cell_type": "markdown",
   "metadata": {},
   "source": [
    "**Question 4c**: Dig deeper into the question of trip duration based on ridership. Choose one city. Within that city, which type of user takes longer rides on average: Subscribers or Customers?\n",
    "\n",
    "**Answer**: In Washington, the average trip lenght for a subscriber is 12.5 minutes and the average trip lenght for a customer is 41.7 minutes. As a result, in Washington the average trip lenght for a cusotmer is longer than the average trip lenght for a \n",
    "subscriber. \n"
   ]
  },
  {
   "cell_type": "code",
   "execution_count": 32,
   "metadata": {},
   "outputs": [],
   "source": [
    "## Use this and additional cells to answer Question 4c. If you have    ##\n",
    "## not done so yet, consider revising some of your previous code to    ##\n",
    "## make use of functions for reusability.                              ##\n",
    "##                                                                     ##\n",
    "## TIP: For the Bay Area example data, you should find the average     ##\n",
    "## Subscriber trip duration to be 9.5 minutes and the average Customer ##\n",
    "## trip duration to be 54.6 minutes. Do the other cities have this     ##\n",
    "## level of difference?                                                ##\n",
    "\n",
    "def user_longer_trips(filename):\n",
    "\n",
    "    with open(filename, 'r') as f_in:\n",
    "        # set up csv reader object\n",
    "         reader = csv.DictReader(f_in)\n",
    "        # set up total trips lenght for customers \n",
    "         trips_lenght_customers = 0\n",
    "        # set total number of customers\n",
    "         total_customers = 0 \n",
    "        # set total trips lenght for subscribers\n",
    "         trips_lenght_subscribers=0\n",
    "        # set total number of subscribers\n",
    "         total_subscribers = 0 \n",
    "        # read each row from the file specified \n",
    "         for row in reader:\n",
    "                if row['user_type'] == 'Subscriber':\n",
    "                    # add trip lenght of a subscriber after converting it to a number format\n",
    "                    trips_lenght_subscribers +=(float(row['duration']))\n",
    "                    # increase total number of subscribers by 1\n",
    "                    total_subscribers +=1\n",
    "          \n",
    "                # if the user was a customer\n",
    "                else:\n",
    "                    # add trip lenght of a customer after converting it to a number format \n",
    "                    trips_lenght_customers+=(float(row['duration']))\n",
    "                    # increase total number of customers by 1\n",
    "                    total_customers +=1\n",
    "                    \n",
    "    # calculate the average trip lenght for each user type by dividing the total trips lenght made by that user\n",
    "    # by the total number of users of that type\n",
    "    \n",
    "    avg_sub_trip=round((trips_lenght_subscribers/total_subscribers),1)           \n",
    "                    \n",
    "    avg_cus_trip=round((trips_lenght_customers/ total_customers),1)\n",
    "       \n",
    "    # return the average trip lenght for a subscriber and a customer for later use              \n",
    "    return avg_sub_trip,avg_cus_trip\n",
    "                                     \n",
    "     "
   ]
  },
  {
   "cell_type": "code",
   "execution_count": 33,
   "metadata": {},
   "outputs": [
    {
     "name": "stdout",
     "output_type": "stream",
     "text": [
      "In Newyork: the average trip lenght for a subscriber is 13.7 minutes\n",
      "In Newyork: the average trip lenght for a customer is 32.8 minutes\n"
     ]
    }
   ],
   "source": [
    "data_file = './data/NYC-2016-Summary.csv'\n",
    "avg_trips_sub , avg_trips_cus= user_longer_trips(data_file)\n",
    "print(\"In Newyork: the average trip lenght for a subscriber is {0} minutes\".format(avg_trips_sub))\n",
    "print(\"In Newyork: the average trip lenght for a customer is {0} minutes\".format(avg_trips_cus))\n"
   ]
  },
  {
   "cell_type": "code",
   "execution_count": 34,
   "metadata": {},
   "outputs": [
    {
     "name": "stdout",
     "output_type": "stream",
     "text": [
      "In Washington: the average trip lenght for a subscriber is 12.5 minutes\n",
      "In Washington: the average trip lenght for a customer is 41.7 minutes\n"
     ]
    }
   ],
   "source": [
    "data_file = './data/Washington-2016-Summary.csv'\n",
    "avg_trips_sub , avg_trips_cus= user_longer_trips(data_file)\n",
    "print(\"In Washington: the average trip lenght for a subscriber is {0} minutes\".format(avg_trips_sub))\n",
    "print(\"In Washington: the average trip lenght for a customer is {0} minutes\".format(avg_trips_cus))"
   ]
  },
  {
   "cell_type": "code",
   "execution_count": 35,
   "metadata": {},
   "outputs": [
    {
     "name": "stdout",
     "output_type": "stream",
     "text": [
      "In Chicago: the average trip lenght for a subscriber is 12.1 minutes\n",
      "In Chicago: the average trip lenght for a customer is 31.0 minutes\n"
     ]
    }
   ],
   "source": [
    "data_file = './data/Chicago-2016-Summary.csv'\n",
    "avg_trips_sub , avg_trips_cus= user_longer_trips(data_file)\n",
    "print(\"In Chicago: the average trip lenght for a subscriber is {0} minutes\".format(avg_trips_sub))\n",
    "print(\"In Chicago: the average trip lenght for a customer is {0} minutes\".format(avg_trips_cus))"
   ]
  },
  {
   "cell_type": "markdown",
   "metadata": {},
   "source": [
    "<a id='visualizations'></a>\n",
    "### Visualizations\n",
    "\n",
    "The last set of values that you computed should have pulled up an interesting result. While the mean trip time for Subscribers is well under 30 minutes, the mean trip time for Customers is actually _above_ 30 minutes! It will be interesting for us to look at how the trip times are distributed. In order to do this, a new library will be introduced here, `matplotlib`. Run the cell below to load the library and to generate an example plot."
   ]
  },
  {
   "cell_type": "code",
   "execution_count": 3,
   "metadata": {},
   "outputs": [
    {
     "data": {
      "image/png": "[encoded data removed]",
      "text/plain": [
       "<matplotlib.figure.Figure at 0x7fe6a51799e8>"
      ]
     },
     "metadata": {
      "needs_background": "light"
     },
     "output_type": "display_data"
    }
   ],
   "source": [
    "# load library\n",
    "import matplotlib.pyplot as plt\n",
    "\n",
    "# this is a 'magic word' that allows for plots to be displayed\n",
    "# inline with the notebook. If you want to know more, see:\n",
    "# http://ipython.readthedocs.io/en/stable/interactive/magics.html\n",
    "%matplotlib inline \n",
    "\n",
    "# example histogram, data taken from bay area sample\n",
    "data = [ 7.65,  8.92,  7.42,  5.50, 16.17,  4.20,  8.98,  9.62, 11.48, 14.33,\n",
    "        19.02, 21.53,  3.90,  7.97,  2.62,  2.67,  3.08, 14.40, 12.90,  7.83,\n",
    "        25.12,  8.30,  4.93, 12.43, 10.60,  6.17, 10.88,  4.78, 15.15,  3.53,\n",
    "         9.43, 13.32, 11.72,  9.85,  5.22, 15.10,  3.95,  3.17,  8.78,  1.88,\n",
    "         4.55, 12.68, 12.38,  9.78,  7.63,  6.45, 17.38, 11.90, 11.52,  8.63,]\n",
    "plt.hist(data)\n",
    "plt.title('Distribution of Trip Durations')\n",
    "plt.xlabel('Duration (m)')\n",
    "plt.show()"
   ]
  },
  {
   "cell_type": "markdown",
   "metadata": {},
   "source": [
    "In the above cell, we collected fifty trip times in a list, and passed this list as the first argument to the `.hist()` function. This function performs the computations and creates plotting objects for generating a histogram, but the plot is actually not rendered until the `.show()` function is executed. The `.title()` and `.xlabel()` functions provide some labeling for plot context.\n",
    "\n",
    "You will now use these functions to create a histogram of the trip times for the city you selected in question 4c. Don't separate the Subscribers and Customers for now: just collect all of the trip times and plot them."
   ]
  },
  {
   "cell_type": "code",
   "execution_count": 3,
   "metadata": {},
   "outputs": [
    {
     "data": {
      "image/png": "[encoded data removed]",
      "text/plain": [
       "<matplotlib.figure.Figure at 0x7fe7a0478438>"
      ]
     },
     "metadata": {
      "needs_background": "light"
     },
     "output_type": "display_data"
    }
   ],
   "source": [
    "## Use this and additional cells to collect all of the trip times as a list ##\n",
    "## and then use pyplot functions to generate a histogram of trip times.     ##\n",
    "# load library\n",
    "import matplotlib.pyplot as plt\n",
    "\n",
    "# this is a 'magic word' that allows for plots to be displayed\n",
    "# inline with the notebook. \n",
    "%matplotlib inline \n",
    "\n",
    "# open specified file to read the data from and use it in the histogrm of trip times \n",
    "with open('./data/Washington-2016-Summary.csv') as file:\n",
    "    \n",
    "          \n",
    "  # set up csv DictReader object \n",
    "    trip_reader = csv.DictReader(file)\n",
    "      \n",
    "  # set the list for the trip duration values \n",
    "    data=[]\n",
    "    \n",
    "  # collect data from each row and process it \n",
    "    for row in trip_reader:\n",
    "  # convert duration values to a number format because cvs reads values as a string \n",
    "        duration=int(float(row['duration']))                        \n",
    "  # add each trip time value to the data list \n",
    "        data.append(duration)\n",
    "# plot trip time values in the histogram\n",
    "plt.hist(data,range=[0,80])\n",
    "plt.title('Distribution of Trip Durations for Washington ')\n",
    "plt.xlabel('Duration (in minutes)')\n",
    "plt.ylabel('Number of trips')\n",
    "plt.show()\n"
   ]
  },
  {
   "cell_type": "markdown",
   "metadata": {},
   "source": [
    "If you followed the use of the `.hist()` and `.show()` functions exactly like in the example, you're probably looking at a plot that's completely unexpected. The plot consists of one extremely tall bar on the left, maybe a very short second bar, and a whole lot of empty space in the center and right. Take a look at the duration values on the x-axis. This suggests that there are some highly infrequent outliers in the data. Instead of reprocessing the data, you will use additional parameters with the `.hist()` function to limit the range of data that is plotted. Documentation for the function can be found [[here]](https://matplotlib.org/devdocs/api/_as_gen/matplotlib.pyplot.hist.html#matplotlib.pyplot.hist).\n",
    "\n",
    "**Question 5**: Use the parameters of the `.hist()` function to plot the distribution of trip times for the Subscribers in your selected city. Do the same thing for only the Customers. Add limits to the plots so that only trips of duration less than 75 minutes are plotted. As a bonus, set the plots up so that bars are in five-minute wide intervals. For each group, where is the peak of each distribution? How would you describe the shape of each distribution?\n",
    "\n",
    "**Answer**: In Subscribers Group : the peak is between 5 and 10 minutes . In Customers Group: the peak is between 15 and 20 minutes. The shape of each distribution is right skewed."
   ]
  },
  {
   "cell_type": "code",
   "execution_count": 19,
   "metadata": {},
   "outputs": [
    {
     "data": {
      "image/png": "[encoded data removed]",
      "text/plain": [
       "<matplotlib.figure.Figure at 0x7f67aa9bacf8>"
      ]
     },
     "metadata": {
      "needs_background": "light"
     },
     "output_type": "display_data"
    }
   ],
   "source": [
    "## Use this and additional cells to answer Question 5. ##\n",
    "\n",
    "# open specified file to read the data from and use it in the histogrm of trip times \n",
    "with open('./data/Washington-2016-Summary.csv') as file:\n",
    "    \n",
    "          \n",
    "  # set up csv DictReader object \n",
    "    trip_reader = csv.DictReader(file)\n",
    "      \n",
    "  # set the list for the trip duration values \n",
    "    data=[]\n",
    "    \n",
    "  # collect data from each row and process it \n",
    "    for row in trip_reader:\n",
    "  # only collect trip time values for subscribers\n",
    "        if row['user_type']=='Subscriber':\n",
    "  # convert duration values to a number format because cvs reads values as a string     \n",
    "           duration=int(float(row['duration']))                        \n",
    "  # add each trip time value to the data list \n",
    "           data.append(duration)\n",
    "# plot trip time values in the histogram\n",
    "b=range(0,74,5)\n",
    "plt.hist(data, bins=b ,edgecolor='black',linewidth=1.2)\n",
    "plt.title('Distribution of Trip Durations for Subscribers in Washington')\n",
    "plt.xlabel('Duration (in minutes)')\n",
    "plt.ylabel('Number of trips')\n",
    "plt.show()"
   ]
  },
  {
   "cell_type": "code",
   "execution_count": 20,
   "metadata": {},
   "outputs": [
    {
     "data": {
      "image/png": "[encoded data removed]",
      "text/plain": [
       "<matplotlib.figure.Figure at 0x7f67aac8a438>"
      ]
     },
     "metadata": {
      "needs_background": "light"
     },
     "output_type": "display_data"
    }
   ],
   "source": [
    "# open specified file to read the data from and use it in the histogrm of trip times \n",
    "with open('./data/Washington-2016-Summary.csv') as file:\n",
    "    \n",
    "          \n",
    "  # set up csv DictReader object \n",
    "    trip_reader = csv.DictReader(file)\n",
    "      \n",
    "  # set the list for the trip duration values \n",
    "    data=[]\n",
    "    \n",
    "  # collect data from each row and process it \n",
    "    for row in trip_reader:\n",
    "  # only collect trip time values for customers  \n",
    "        if row['user_type']=='Customer':\n",
    "  # convert duration values to a number format because cvs reads values as a string     \n",
    "           duration=int(float(row['duration']))                        \n",
    "  # add each trip time value to the data list \n",
    "           data.append(duration)\n",
    "# plot trip time values in the histogram\n",
    "b=range(0,74,5)\n",
    "plt.hist(data,bins=b,edgecolor='black',linewidth=1.2)\n",
    "plt.title('Distribution of Trip Durations for Customers in Washington')\n",
    "plt.xlabel('Duration (in minutes)')\n",
    "plt.ylabel('Number of trips')\n",
    "plt.show()"
   ]
  },
  {
   "cell_type": "markdown",
   "metadata": {
    "collapsed": true
   },
   "source": [
    "##### <a id='eda_continued'></a>\n",
    "## Performing Your Own Analysis\n",
    "\n",
    "So far, you've performed an initial exploration into the data available. You have compared the relative volume of trips made between three U.S. cities and the ratio of trips made by Subscribers and Customers. For one of these cities, you have investigated differences between Subscribers and Customers in terms of how long a typical trip lasts. Now it is your turn to continue the exploration in a direction that you choose. Here are a few suggestions for questions to explore:\n",
    "\n",
    "- How does ridership differ by month or season? Which month / season has the highest ridership? Does the ratio of Subscriber trips to Customer trips change depending on the month or season?\n",
    "- Is the pattern of ridership different on the weekends versus weekdays? On what days are Subscribers most likely to use the system? What about Customers? Does the average duration of rides change depending on the day of the week?\n",
    "- During what time of day is the system used the most? Is there a difference in usage patterns for Subscribers and Customers?\n",
    "\n",
    "If any of the questions you posed in your answer to question 1 align with the bullet points above, this is a good opportunity to investigate one of them. As part of your investigation, you will need to create a visualization. If you want to create something other than a histogram, then you might want to consult the [Pyplot documentation](https://matplotlib.org/devdocs/api/pyplot_summary.html). In particular, if you are plotting values across a categorical variable (e.g. city, user type), a bar chart will be useful. The [documentation page for `.bar()`](https://matplotlib.org/devdocs/api/_as_gen/matplotlib.pyplot.bar.html#matplotlib.pyplot.bar) includes links at the bottom of the page with examples for you to build off of for your own use.\n",
    "\n",
    "**Question 6**: Continue the investigation by exploring another question that could be answered by the data available. Document the question you want to explore below. Your investigation should involve at least two variables and should compare at least two groups. You should also use at least one visualization as part of your explorations.\n",
    "\n",
    "During what time of day is the system used the most? Is there a difference in usage patterns for Subscribers and Customers?\n",
    "**Answer**: For subscribers is used mostly between 6:00 AM and 10:00 AM in the morning and in the evening bweteen 16:00 PM and 20:00 PM. However for customers, it is mostly used in the evening from 15:00 PM to 18:00 PM. Yes , there is a difference in the usage patterns between subcribers and customers.\n",
    "\n",
    "How does ridership differ by month or season? Which month / season has the highest ridership? Does the ratio of Subscriber trips to Customer trips change depending on the month or season?\n",
    "**Answer**: For Subscribers and customers groups, November0 has the highest number of trips. Through all months, the number of trips for subscribers is higher than the number of trips for customers. "
   ]
  },
  {
   "cell_type": "code",
   "execution_count": 43,
   "metadata": {},
   "outputs": [
    {
     "data": {
      "image/png": "[encoded data removed]",
      "text/plain": [
       "<matplotlib.figure.Figure at 0x7fe796f055c0>"
      ]
     },
     "metadata": {
      "needs_background": "light"
     },
     "output_type": "display_data"
    }
   ],
   "source": [
    "\n",
    "# open specified file to read the data from and use it in the histogrm of trip times \n",
    "with open('./data/Washington-2016-Summary.csv') as file:\n",
    "              \n",
    "  # set up csv DictReader object \n",
    "    trip_reader = csv.DictReader(file)\n",
    "      \n",
    "  # set the list for the number of trips in each hour of the day \n",
    "    data=[]\n",
    "    \n",
    "  # collect data from each row and process it \n",
    "    for row in trip_reader:\n",
    "  # convert hour values to a number format because cvs reads values as a string\n",
    "  # this will also make hours ordered in the histogram\n",
    "  # only collect values for subscribers  \n",
    "        if row['user_type']=='Subscriber':\n",
    "            hour=int(row['hour'])                  \n",
    "  # add each value to the data list \n",
    "            data.append(hour)\n",
    "# plot trip values in the histogram\n",
    "b=range(0,24,1)\n",
    "plt.hist(data,bins=b,edgecolor='black',linewidth=1.2)\n",
    "plt.title('Distribution of Trips Throught the Day Hours in Washington for Subscribers')\n",
    "plt.xlabel('Hour')\n",
    "plt.ylabel('Number of trips')\n",
    "plt.show()"
   ]
  },
  {
   "cell_type": "code",
   "execution_count": 42,
   "metadata": {},
   "outputs": [
    {
     "data": {
      "image/png": "[encoded data removed]",
      "text/plain": [
       "<matplotlib.figure.Figure at 0x7fe770fc1b00>"
      ]
     },
     "metadata": {
      "needs_background": "light"
     },
     "output_type": "display_data"
    }
   ],
   "source": [
    "# open specified file to read the data from and use it in the histogrm of trip times \n",
    "with open('./data/Washington-2016-Summary.csv') as file:\n",
    "              \n",
    "  # set up csv DictReader object \n",
    "    trip_reader = csv.DictReader(file)\n",
    "      \n",
    " # set the list for the number of trips in each hour of the day \n",
    "    data=[]\n",
    "    \n",
    "  # collect data from each row and process it \n",
    "    for row in trip_reader:\n",
    "  # convert hour values to a number format because cvs reads values as a string\n",
    "  # this will also make hours ordered in the histogram\n",
    "  # only collect values for customers          \n",
    "\n",
    "        if row['user_type']=='Customer':\n",
    "            hour=int(row['hour'])                  \n",
    "  # add each value to the data list \n",
    "            data.append(hour)\n",
    "# plot trip values in the histogram\n",
    "b=range(0,24,1)\n",
    "plt.hist(data,bins=b,edgecolor='black',linewidth=1.2)\n",
    "plt.title('Distribution of Trips Throught the Day Hours in Washington for Customers')\n",
    "plt.xlabel('Hour')\n",
    "plt.ylabel('Number of trips')\n",
    "plt.show()"
   ]
  },
  {
   "cell_type": "code",
   "execution_count": 44,
   "metadata": {},
   "outputs": [
    {
     "data": {
      "image/png": "[encoded data removed]",
      "text/plain": [
       "<matplotlib.figure.Figure at 0x7fe774157b00>"
      ]
     },
     "metadata": {
      "needs_background": "light"
     },
     "output_type": "display_data"
    }
   ],
   "source": [
    "# open specified file to read the data from and use it in the histogrm of trip times \n",
    "with open('./data/Washington-2016-Summary.csv') as file:\n",
    "              \n",
    "  # set up csv DictReader object \n",
    "    trip_reader = csv.DictReader(file)\n",
    "      \n",
    "  # set the list for the number of trips in each month of the year for both groups : subscribers and customers respectivily\n",
    "    data_one=[]\n",
    "    \n",
    "    data_two=[]\n",
    "    \n",
    "  # collect data from each row and process it \n",
    "    for row in trip_reader:\n",
    "  # convert month values to a number format because cvs reads values as a string\n",
    "  # this will also make months ordered in the histogram\n",
    "    \n",
    "        if (row['user_type']=='Subscriber'):\n",
    "            month=int(row['month'])                  \n",
    "            # add each value to the data list \n",
    "            data_one.append(month)\n",
    "            \n",
    "        if (row['user_type']=='Customer'):\n",
    "            month=int(row['month'])                  \n",
    "            # add each value to the data list \n",
    "            data_two.append(month)     \n",
    "    \n",
    "            \n",
    "# plot both sets of values in the histogram\n",
    "b=range(1,12,1)\n",
    "plt.hist([data_one,data_two],bins=b, label=['Subscribers', 'Customers'],edgecolor='black',linewidth=1.2)\n",
    "plt.title('Distribution of Trips Throught the Year Months for subscribers and customers in Washington')\n",
    "plt.xlabel('Month : starting from 1 as January')\n",
    "plt.legend(loc='upper left')\n",
    "plt.show()"
   ]
  },
  {
   "cell_type": "markdown",
   "metadata": {},
   "source": [
    "<a id='conclusions'></a>\n",
    "## Conclusions\n",
    "\n",
    "Congratulations on completing the project! This is only a sampling of the data analysis process: from generating questions, wrangling the data, and to exploring the data. Normally, at this point in the data analysis process, you might want to draw conclusions about the data by performing a statistical test or fitting the data to a model for making predictions. There are also a lot of potential analyses that could be performed on the data which are not possible with only the data provided. For example, detailed location data has not been investigated. Where are the most commonly used docks? What are the most common routes? As another example, weather has potential to have a large impact on daily ridership. How much is ridership impacted when there is rain or snow? Are subscribers or customers affected more by changes in weather?\n",
    "\n",
    "**Question 7**: Putting the bike share data aside, think of a topic or field of interest where you would like to be able to apply the techniques of data science. What would you like to be able to learn from your chosen subject?\n",
    "\n",
    "**Answer**: I am intrested in studying the data of graduates from my university. I want to know how many graduates from each major found a job in their first year. I am also intrested to know how many graduates from each major continued their master degree and Ph.D and in which countries. Also, I want to know how many graduates started their own companies. Furthermore, I want to know how many graduates from each major have an invention. Basicly, I want know how the graduate major affects each of these questions. \n",
    "\n",
    "In addition, I am intrested to study the data of Internet usage in my country ( Saudi Arabia ). I want to know the peak months for Internet usage. Also, I want to know the peak hours for Internet usage. Moreover, I want to know if gender type affects Internet usage : Do female use Internet more than males ? Furthormore, I am intrseted to know the different patterns for Internet usage for the different age groups ( Ex: teenagers , adluts ).\n",
    "\n",
    "> **Tip**: If we want to share the results of our analysis with others, we aren't limited to giving them a copy of the jupyter Notebook (.ipynb) file. We can also export the Notebook output in a form that can be opened even for those without Python installed. From the **File** menu in the upper left, go to the **Download as** submenu. You can then choose a different format that can be viewed more generally, such as HTML (.html) or\n",
    "PDF (.pdf). You may need additional packages or software to perform these exports.\n",
    "\n",
    "> If you are working on this project via the Project Notebook page in the classroom, you can also submit this project directly from the workspace. **Before you do that**, you should save an HTML copy of the completed project to the workspace by running the code cell below. If it worked correctly, the output code should be a 0, and if you click on the jupyter icon in the upper left, you should see your .html document in the workspace directory. Alternatively, you can download the .html copy of your report following the steps in the previous paragraph, then _upload_ the report to the directory (by clicking the jupyter icon).\n",
    "\n",
    "> Either way, once you've gotten the .html report in your workspace, you can complete your submission by clicking on the \"Submit Project\" button to the lower-right hand side of the workspace."
   ]
  },
  {
   "cell_type": "markdown",
   "metadata": {},
   "source": [
    "## Resources\n",
    "\n",
    "[Link 1](https://stackoverflow.com/questions/17262256/how-to-read-one-single-line-of-csv-data-in-python).\n",
    "[Link 2](https://docs.python.org/3/library/csv.html).\n",
    "[Link 3](https://docs.python.org/3/library/csv.html#reader-objects).\n",
    "[Link 4](https://docs.python.org/3/library/pprint.html).\n",
    "[Link 5](https://docs.python.org/3/library/functions.html).\n",
    "[Link 6](https://www.google.com/search?q=how+to+convert+from+milliseconds+to+minutes&oq=how+to+convert+from+milis&aqs=chrome.2.69i57j0l5.9645j0j7&sourceid=chrome&ie=UTF-8).\n",
    "[Link 7](https://stackoverflow.com/questions/46701826/valueerror-time-data-1-1-2016-000955-does-not-match-format-m-d-y-hm).\n",
    "[Link 8](https://stackoverflow.com/questions/29216208/unconverted-data-remains-387000-in-python/29216330).\n",
    "[Link 9](https://stackoverflow.com/questions/9525944/python-datetime-formatting-without-zero-padding).\n",
    "[Link 10](https://stackoverflow.com/questions/25015711/time-data-does-not-match-format).\n",
    "[Link 11](https://www.geeksforgeeks.org/python-string-split/).\n",
    "[Link 12](http://www.pythonlearn.com/html-009/book011.html).\n",
    "[Link 13](https://data-flair.training/blogs/python-operator/).\n",
    "[Link 14](https://zaiste.net/skipping_headers_in_python_csv_reader).\n",
    "[Link 15](https://docs.python.org/3/library/csv.html).\n",
    "[Link 16](https://stackoverflow.com/questions/13861594/valueerror-invalid-literal-for-int-with-base-10?rq=1).\n",
    "[Link 17](https://stackoverflow.com/questions/2376464/typeerror-unsupported-operand-types-for-str-and-int).\n",
    "[Link 18](https://www.pythonforbeginners.com/comments/comments-in-python).\n",
    "[Link 19](https://www.google.com/search?q=how+to+change+milliseconds+into+minutes&oq=how+to+change+from+milisecond&aqs=chrome.3.69i57j0l4.7631j0j7&sourceid=chrome&ie=UTF-8).\n",
    "[Link 20](https://stackoverflow.com/questions/43027980/purpose-of-matplotlib-inline/43028034).\n",
    "[Link 21](https://ipython.readthedocs.io/en/stable/interactive/magics.html).\n",
    "[Link 22](https://www.pythonforbeginners.com/files/reading-and-writing-files-in-python).\n",
    "[Link 23](https://matplotlib.org/devdocs/api/_as_gen/matplotlib.pyplot.hist.html#matplotlib.pyplot.hist).\n",
    "[Link 24](https://stackoverflow.com/questions/52362605/python-histogram-with-range-but-distribution-is-calculated-for-whole-set).\n",
    "[Link 25](https://stackoverflow.com/questions/43286541/python-matplotlib-setting-x-axis-scale).\n",
    "[Link 26](https://stackoverflow.com/questions/609972/how-to-use-boolean-and-in-python).\n",
    "[Link 27](https://stackoverflow.com/questions/42741687/python-histogram-outline/42741774).\n",
    "[Link 28](https://daringfireball.net/projects/markdown/basics)."
   ]
  },
  {
   "cell_type": "code",
   "execution_count": 51,
   "metadata": {},
   "outputs": [
    {
     "data": {
      "text/plain": [
       "0"
      ]
     },
     "execution_count": 51,
     "metadata": {},
     "output_type": "execute_result"
    }
   ],
   "source": [
    "from subprocess import call\n",
    "call(['python', '-m', 'nbconvert', 'Bike_Share_Analysis.ipynb'])"
   ]
  }
 ],
 "metadata": {
  "anaconda-cloud": {},
  "kernelspec": {
   "display_name": "Python 3",
   "language": "python",
   "name": "python3"
  },
  "language_info": {
   "codemirror_mode": {
    "name": "ipython",
    "version": 3
   },
   "file_extension": ".py",
   "mimetype": "text/x-python",
   "name": "python",
   "nbconvert_exporter": "python",
   "pygments_lexer": "ipython3",
   "version": "3.6.3"
  }
 },
 "nbformat": 4,
 "nbformat_minor": 1
}
